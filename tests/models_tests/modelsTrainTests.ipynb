{
 "cells": [
  {
   "cell_type": "code",
   "execution_count": null,
   "metadata": {},
   "outputs": [
    {
     "ename": "",
     "evalue": "",
     "output_type": "error",
     "traceback": [
      "\u001b[1;31mThe Kernel crashed while executing code in the current cell or a previous cell. \n",
      "\u001b[1;31mPlease review the code in the cell(s) to identify a possible cause of the failure. \n",
      "\u001b[1;31mClick <a href='https://aka.ms/vscodeJupyterKernelCrash'>here</a> for more info. \n",
      "\u001b[1;31mView Jupyter <a href='command:jupyter.viewOutput'>log</a> for further details."
     ]
    }
   ],
   "source": [
    "from andi_datasets.models_phenom import models_phenom\n",
    "from andi_datasets.analysis import *\n",
    "\n",
    "from helpersGeneration import *\n",
    "from helpersPlot import *\n",
    "\n",
    "%load_ext autoreload\n",
    "%reload_ext autoreload\n",
    "%autoreload 2\n",
    "\n",
    "# number of time steps per trajectory (frames)\n",
    "T = 500\n",
    "# number of trajectories\n",
    "N = 10\n",
    "# Length of box (pixels), set to 0 to make them start at 0,0\n",
    "L = 0 \n",
    "# diffusion coefficient (pixels^2 / frame)\n",
    "D = 0.2"
   ]
  },
  {
   "cell_type": "code",
   "execution_count": 1,
   "metadata": {},
   "outputs": [
    {
     "name": "stdout",
     "output_type": "stream",
     "text": [
      "ui\n"
     ]
    }
   ],
   "source": [
    "print(\"ui\")"
   ]
  },
  {
   "cell_type": "code",
   "execution_count": null,
   "metadata": {},
   "outputs": [
    {
     "name": "stderr",
     "output_type": "stream",
     "text": [
      "'printenv' is not recognized as an internal or external command,\n",
      "operable program or batch file.\n"
     ]
    }
   ],
   "source": [
    "import sys\n",
    "sys.executable\n"
   ]
  },
  {
   "cell_type": "markdown",
   "metadata": {},
   "source": []
  },
  {
   "cell_type": "code",
   "execution_count": 3,
   "metadata": {},
   "outputs": [
    {
     "name": "stdout",
     "output_type": "stream",
     "text": [
      "(500, 5, 2) (500, 5, 3)\n",
      "Particle 0 [alpha, Gen_D, state]: [1. 5. 2.]\n",
      "Particle 1 [alpha, Gen_D, state]: [1. 5. 2.]\n"
     ]
    }
   ],
   "source": [
    "# number of time steps per trajectory (frames)\n",
    "T = 500\n",
    "# number of trajectories\n",
    "N = 5\n",
    "# Length of box (pixels), set to 0 to make them start at 0,0\n",
    "L = 0 \n",
    "# diffusion coefficient (pixels^2 / frame)\n",
    "D = 5\n",
    "\n",
    "trajs, labels = models_phenom().single_state(N, \n",
    "                                L = L,\n",
    "                                T = T,\n",
    "                                Ds = [D, 0], # Mean and variance\n",
    "                                alphas = 1)\n",
    "print(trajs.shape,labels.shape)\n",
    "# Need to reshape generated trajectories because they are in format (T,N,dim), but we want them in (N,T,dim)\n",
    "trajs = trajs.transpose(1,0,2)\n",
    "labels = labels.transpose(1,0,2)\n",
    "# Labels are now in format (N,T,3): for each particle T times the tuple (alpha, D, state)\n",
    "print(f\"Particle 0 [alpha, Gen_D, state]: {labels[0,0,:]}\")\n",
    "print(f\"Particle 1 [alpha, Gen_D, state]: {labels[1,0,:]}\")\n",
    "\n",
    "np.save(f\"./valTrajs/val{D}.npy\",trajs)"
   ]
  },
  {
   "cell_type": "code",
   "execution_count": null,
   "metadata": {},
   "outputs": [],
   "source": [
    "div_factor = 100\n",
    "\n",
    "trajs1 = np.load(\"./valTrajs/val1.npy\") /div_factor\n",
    "trajs3 = np.load(\"./valTrajs/val3.npy\") /div_factor\n",
    "trajs5 = np.load(\"./valTrajs/val5.npy\") /div_factor\n",
    "trajs7 = np.load(\"./valTrajs/val7.npy\") /div_factor\n",
    "\n",
    "\n",
    "image_props={\"upsampling_factor\":10,\n",
    "        \"background_intensity\": [100,10],\n",
    "        \"particle_intensity\": [500,20],\n",
    "        \"resolution\": 100e-9,\n",
    "        \"trajectory_unit\" : 1000,\n",
    "        \"output_size\": 7,\n",
    "        \"poisson_noise\" : -1 }\n",
    "\n",
    "nPosPerFrame = 10\n",
    "\n",
    "vid1 = trajectories_to_video(trajs1,nPosPerFrame,center=True,image_props=image_props)\n",
    "normalize_images(vid1,100,10,600)\n"
   ]
  },
  {
   "cell_type": "code",
   "execution_count": 5,
   "metadata": {},
   "outputs": [
    {
     "ename": "",
     "evalue": "",
     "output_type": "error",
     "traceback": [
      "\u001b[1;31mThe Kernel crashed while executing code in the current cell or a previous cell. \n",
      "\u001b[1;31mPlease review the code in the cell(s) to identify a possible cause of the failure. \n",
      "\u001b[1;31mClick <a href='https://aka.ms/vscodeJupyterKernelCrash'>here</a> for more info. \n",
      "\u001b[1;31mView Jupyter <a href='command:jupyter.viewOutput'>log</a> for further details."
     ]
    }
   ],
   "source": [
    "play_video(vid1[0])"
   ]
  }
 ],
 "metadata": {
  "kernelspec": {
   "display_name": "ProjetSPT",
   "language": "python",
   "name": "python3"
  },
  "language_info": {
   "codemirror_mode": {
    "name": "ipython",
    "version": 3
   },
   "file_extension": ".py",
   "mimetype": "text/x-python",
   "name": "python",
   "nbconvert_exporter": "python",
   "pygments_lexer": "ipython3",
   "version": "3.13.2"
  }
 },
 "nbformat": 4,
 "nbformat_minor": 2
}
