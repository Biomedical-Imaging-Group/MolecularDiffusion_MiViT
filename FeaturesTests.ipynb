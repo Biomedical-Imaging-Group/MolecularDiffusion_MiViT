{
 "cells": [
  {
   "cell_type": "code",
   "execution_count": null,
   "id": "5e36b724",
   "metadata": {},
   "outputs": [],
   "source": [
    "from andi_datasets.models_phenom import models_phenom\n",
    "from andi_datasets.analysis import *\n",
    "\n",
    "from helpersGeneration import *\n",
    "from helpersFeatures import *\n",
    "\n",
    "\n",
    "\n",
    "%load_ext autoreload\n",
    "%reload_ext autoreload\n",
    "%autoreload 2"
   ]
  },
  {
   "cell_type": "code",
   "execution_count": 2,
   "id": "eb26c4b4",
   "metadata": {},
   "outputs": [],
   "source": [
    "# number of time steps per trajectory (frames)\n",
    "T = 500\n",
    "# number of trajectories\n",
    "N = 50\n",
    "# Length of box (pixels), set to 0 to make them start at 0,0\n",
    "L = 0 \n",
    "# diffusion coefficient (pixels^2 / frame)\n",
    "D = 1\n",
    "length = 30\n",
    "traj_div_factor = 100"
   ]
  },
  {
   "cell_type": "code",
   "execution_count": 3,
   "id": "ce343cec",
   "metadata": {},
   "outputs": [
    {
     "name": "stdout",
     "output_type": "stream",
     "text": [
      "[ 9.88111557e-01  9.85268154e-04  9.96463292e-01 -5.77043334e+00\n",
      "  3.11840589e-03  1.64823736e+00  5.94923256e-01  2.74116863e+00\n",
      " -2.20270473e-04  5.39640045e-01  3.00000000e+02  1.73477451e-02\n",
      "  2.87091289e-02 -1.02081710e-05  5.01683502e-01  4.56375839e-01\n",
      "  5.18697577e+00  1.04797098e-03  5.58786785e-02  5.48307075e-02\n",
      "  1.72899192e-02  5.28062082e-01  1.00000000e+00  0.00000000e+00\n",
      "  8.27287153e-02]\n",
      "[ 8.86014870e-01  7.81538506e-03  9.88494231e-01 -8.39785081e+00\n",
      "  2.25351126e-04  1.87461646e+00  6.72732391e-01  1.59469608e+00\n",
      "  1.85775295e-03  9.02085178e-01  3.00000000e+02  4.62057560e-02\n",
      "  1.81901032e-01  2.85436859e-05  4.98316498e-01  5.13422819e-01\n",
      "  1.38155210e+01  3.27160738e-03  1.23138671e-01  1.19867064e-01\n",
      "  4.60517368e-02  5.22973394e-01  9.66555184e-01  0.00000000e+00\n",
      "  3.72783881e-01]\n"
     ]
    }
   ],
   "source": [
    "trajs1 = np.load(\"./valTrajs\"+str(length)+\"/val1.npy\") /traj_div_factor\n",
    "trajs7 = np.load(\"./valTrajs\"+str(length)+\"/val7.npy\") /traj_div_factor\n",
    "\n",
    "\n",
    "print(compute_diffusion_features(trajs1[0], 0.1))\n",
    "print(compute_diffusion_features(trajs7[0], 0.1))"
   ]
  },
  {
   "cell_type": "code",
   "execution_count": 4,
   "id": "5c57d0d1",
   "metadata": {},
   "outputs": [],
   "source": [
    "f = compute_features_for_multiple_trajectories(trajs1)\n"
   ]
  },
  {
   "cell_type": "code",
   "execution_count": 5,
   "id": "dfac9769",
   "metadata": {},
   "outputs": [
    {
     "name": "stdout",
     "output_type": "stream",
     "text": [
      "(50, 25)\n",
      "25\n"
     ]
    }
   ],
   "source": [
    "print(f.shape)\n",
    "print(len(feature_names))"
   ]
  },
  {
   "cell_type": "code",
   "execution_count": null,
   "id": "591cc306",
   "metadata": {},
   "outputs": [],
   "source": []
  }
 ],
 "metadata": {
  "kernelspec": {
   "display_name": "Python 3",
   "language": "python",
   "name": "python3"
  },
  "language_info": {
   "codemirror_mode": {
    "name": "ipython",
    "version": 3
   },
   "file_extension": ".py",
   "mimetype": "text/x-python",
   "name": "python",
   "nbconvert_exporter": "python",
   "pygments_lexer": "ipython3",
   "version": "3.12.4"
  }
 },
 "nbformat": 4,
 "nbformat_minor": 5
}
